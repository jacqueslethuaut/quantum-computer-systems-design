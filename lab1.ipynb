{
 "cells": [
  {
   "cell_type": "markdown",
   "metadata": {},
   "source": [
    "Before you turn this lab in, make sure everything runs as expected. **Restart and run all cells** (in the menubar, select Kernel$\\rightarrow$Restart & Run All) then check the output is as expected and there are no errors.  Also remember to **Save** before uploading this file (File$\\rightarrow$Save and Checkpoint)."
   ]
  },
  {
   "cell_type": "markdown",
   "metadata": {},
   "source": [
    "---"
   ]
  },
  {
   "cell_type": "markdown",
   "metadata": {},
   "source": [
    "# <div align=\"center\">Quantum Computer Systems Design</div>&nbsp;  <div align=\"center\">Lab 1</div> \n",
    "\n",
    "### 1. Quantum Logic Warm-up\n",
    "How does a quantum computer store and manipulate information? In this problem, we will compare and contrast quantum logic against its classical counterpart, boolean logic.\n",
    "\n",
    "#### 1.1 Classical coin-flip gate.\n",
    "Suppose CCOIN is a classical conditional random gate that tosses a biased coin if the input is $|1\\rangle$. Specifically, if the input is $|0\\rangle$, CCOIN does nothing, otherwise, it generates bit $|0\\rangle$ with probability $1/4$ and generates bit $|1\\rangle$ with probability $3/4$. Schematically, CCOIN gate takes one input bit and returns one output bit, as shown below:  \n",
    "$$\n",
    "\\text{CCOIN} = \\begin{cases}|0\\rangle \\rightarrow |0\\rangle, \\\\ |1\\rangle \\rightarrow 1/4|0\\rangle + 3/4|1\\rangle. \\end{cases}\n",
    "$$&nbsp;\n",
    "Notice that, in our notation, a *random bit* is written as $p|0\\rangle+(1-p)|1\\rangle$, if it is $|0\\rangle$ with probability $p$ and generates bit $|1\\rangle$ with probability $1-p$.\n",
    "\n",
    "#### 1.1.1\n",
    "Give the random bit resulting from applying the CCOIN gate on an input bit $1/3|0\\rangle+2/3|1\\rangle$. Enter your solution below by giving the probability of outputing $|0\\rangle$.\n",
    "\n",
    "For all questions, you may either give a numeric answer such as `0.2928932188` or an expression like `1-np.sin(np.pi/4)`  \n",
    "\n",
    "$$\n",
    "\\color{yellow}\n",
    "\\begin{equation}\n",
    "\\begin{split}   \n",
    "\\text{CCOIN}(\\frac{1}{3}|0\\rangle + \\frac{2}{3}|1\\rangle) &= \\frac{1}{3} \\text{CCOIN}|0\\rangle + \\frac{2}{3} \\text{CCOIN} |1\\rangle \\\\\n",
    "&= \\frac{1}{3} |0\\rangle + \\frac{2}{3} \\left( \\frac{1}{4}|0\\rangle + \\frac{3}{4}|1\\rangle \\right) \\\\\n",
    "&= \\frac{1}{2}|0\\rangle + \\frac{1}{2}|1\\rangle\n",
    "\\end{split}\n",
    "\\end{equation}\n",
    "$$"
   ]
  },
  {
   "cell_type": "code",
   "execution_count": 1,
   "metadata": {
    "deletable": false,
    "nbgrader": {
     "cell_type": "code",
     "checksum": "65e2e96149e40ff9cc49bf58cc910b9d",
     "grade": false,
     "grade_id": "1-1-1",
     "locked": false,
     "schema_version": 3,
     "solution": true,
     "task": false
    }
   },
   "outputs": [
    {
     "name": "stdout",
     "output_type": "stream",
     "text": [
      "0.5\n"
     ]
    }
   ],
   "source": [
    "import numpy as np\n",
    "\n",
    "prob_output_0 = (\n",
    "    0.5\n",
    ")\n",
    "print(prob_output_0)"
   ]
  },
  {
   "cell_type": "code",
   "execution_count": 2,
   "metadata": {
    "deletable": false,
    "editable": false,
    "nbgrader": {
     "cell_type": "code",
     "checksum": "2f2b4ac3576c8863c4ba320eb66bd708",
     "grade": true,
     "grade_id": "1-1-1-test",
     "locked": true,
     "points": 10,
     "schema_version": 3,
     "solution": false,
     "task": false
    }
   },
   "outputs": [],
   "source": [
    "# Do not delete this cell\n",
    "# The autograder will test the value stored in prob_output_0\n",
    "# Pass all the below test(s) and the hidden tests for full credit\n",
    "assert 0 <= prob_output_0 <= 1, 'The probability should be between 0 and 1'"
   ]
  },
  {
   "cell_type": "markdown",
   "metadata": {},
   "source": [
    "#### 1.1.2 \n",
    "Give the random bit resulting from applying the CCOIN gate *twice* on an input bit $2/5|0\\rangle+3/5|1\\rangle$. Enter your solution below by giving the final probability of outputing $|0\\rangle$. \n",
    "$$\n",
    "\\color{yellow}\n",
    "\\begin{equation}\n",
    "\\begin{split}   \n",
    "\\text{CCOIN}(\\text{CCOIN}(\\frac{2}{5}|0\\rangle + \\frac{3}{5}|1\\rangle)) &= \\text{CCOIN}(\\frac{2}{5} \\text{CCOIN}|0\\rangle + \\frac{3}{5} \\text{CCOIN} |1\\rangle) \\\\\n",
    "&= \\text{CCOIN}(\\frac{2}{5} |0\\rangle + \\frac{3}{5} \\left( \\frac{1}{4}|0\\rangle + \\frac{3}{4}|1\\rangle \\right)) \\\\\n",
    "&= \\text{CCOIN}(\\frac{11}{20}|0\\rangle + \\frac{9}{20}|1\\rangle) \\\\\n",
    "&= \\frac{11}{20}|0\\rangle + \\frac{9}{20} \\left( \\frac{1}{4}|0\\rangle + \\frac{3}{4}|1\\rangle \\right)) \\\\\n",
    "&= \\frac{53}{80}|0\\rangle + \\frac{27}{80}|1\\rangle \n",
    "\\end{split} \n",
    "\\end{equation}\n",
    "$$"
   ]
  },
  {
   "cell_type": "code",
   "execution_count": 3,
   "metadata": {
    "deletable": false,
    "nbgrader": {
     "cell_type": "code",
     "checksum": "8baceadd3c56526799cd62c74b54420e",
     "grade": false,
     "grade_id": "1-1-2",
     "locked": false,
     "schema_version": 3,
     "solution": true,
     "task": false
    }
   },
   "outputs": [
    {
     "name": "stdout",
     "output_type": "stream",
     "text": [
      "0.6625\n"
     ]
    }
   ],
   "source": [
    "prob_twice_0 = 53./80\n",
    "\n",
    "print(prob_twice_0)"
   ]
  },
  {
   "cell_type": "code",
   "execution_count": 4,
   "metadata": {
    "deletable": false,
    "editable": false,
    "nbgrader": {
     "cell_type": "code",
     "checksum": "26d9fe54dc9f8e5e0aa276d7858b876d",
     "grade": true,
     "grade_id": "1-1-2-test",
     "locked": true,
     "points": 10,
     "schema_version": 3,
     "solution": false,
     "task": false
    }
   },
   "outputs": [],
   "source": [
    "# Do not delete this cell\n",
    "# Pass all the below test(s) and the hidden tests for full credit\n",
    "assert 0 <= prob_twice_0 <= 1, 'The probability should be between 0 and 1'"
   ]
  },
  {
   "cell_type": "markdown",
   "metadata": {},
   "source": [
    "#### 1.2 Classical Coin to Quantum Coin\n",
    "Given our definition of the CCOIN gate, we need to implement a biased coin. The following simple classical program invokes a pseudo random generator in `numpy.random`. (Feel free to execute the following code to see the sampling outcome.)"
   ]
  },
  {
   "cell_type": "code",
   "execution_count": 5,
   "metadata": {},
   "outputs": [
    {
     "data": {
      "image/png": "[encoded data removed]",
      "text/plain": [
       "<Figure size 640x480 with 1 Axes>"
      ]
     },
     "metadata": {},
     "output_type": "display_data"
    }
   ],
   "source": [
    "import numpy as np\n",
    "import matplotlib.pyplot as plt\n",
    "%matplotlib inline\n",
    "\n",
    "def coin_classical():\n",
    "    return np.random.choice([0,1], p=[1./4, 3./4])\n",
    "        \n",
    "counts_classical = [coin_classical() for _ in range(1000)]\n",
    "plt.hist(counts_classical, 10,\n",
    "         histtype='bar')\n",
    "plt.title('Classical Coin')\n",
    "plt.show()"
   ]
  },
  {
   "cell_type": "markdown",
   "metadata": {},
   "source": [
    "#### 1.2.1 \n",
    "Now, suppose we want to implement a quantum coin. Give a quantum circuit that implements the same biased coin from above, that is the measurement outcome of a qubit is bit $|0\\rangle$ with probability $1/4$ and bit $|1\\rangle$ with probability $3/4$. You may use up to *two* qubits (initialized to $|00\\rangle$) and any built in gates. (Hint: you may want a controlled-Hadamard gate: `CHGate`)\n",
    "\n",
    "<style>\n",
    "yellow { color: yellow }\n",
    "</style>\n",
    "<yellow>The state of a qubit is represented by a vector in a two-dimensional complex Hilbert space</yellow>\n",
    "$$\n",
    "\\color{yellow}\n",
    "| \\psi \\rangle = \\alpha|0\\rangle + \\beta|1\\rangle\n",
    "$$\n",
    "<yellow>The probability is given by</yellow> $|\\alpha|^2$<yellow> and </yellow>$|\\beta|^2$\n",
    "<yellow>So here we want</yellow>\n",
    "$$\n",
    "\\color{yellow}\n",
    "|\\alpha|^2 = \\frac{1}{4} \\\\\n",
    "$$\n",
    "$$\n",
    "\\color{yellow}\n",
    "|\\beta|^2 = \\frac{3}{4}\n",
    "$$\n",
    "<yellow>for example</yellow>\n",
    "$$\n",
    "\\color{yellow}\n",
    "|\\alpha| = \\frac{1}{2} \\text{ and } |\\beta| = \\frac{\\sqrt{3}}{2}\n",
    "$$\n",
    "<yellow>There are many possibilities but we can apply a </yellow>$R_y$ <yellow>gate with an angle </yellow>$\\theta$\n",
    "$$\n",
    "\\color{yellow}\n",
    "R_y |0\\rangle = cos\\left(\\frac{\\theta}{2}\\right) |0\\rangle + sin\\left(\\frac{\\theta}{2}\\right)|1\\rangle\n",
    "$$\n",
    "<yellow>We can choose : </yellow> $\\theta=\\frac{2\\pi}{3}$"
   ]
  },
  {
   "cell_type": "code",
   "execution_count": 14,
   "metadata": {
    "deletable": false,
    "nbgrader": {
     "cell_type": "code",
     "checksum": "2025c02d7cf245c536caa2f2ff7a6e08",
     "grade": false,
     "grade_id": "1-2-1",
     "locked": false,
     "schema_version": 3,
     "solution": true,
     "task": false
    }
   },
   "outputs": [
    {
     "data": {
      "text/html": [
       "<pre style=\"word-wrap: normal;white-space: pre;background: #fff0;line-height: 1.1;font-family: &quot;Courier New&quot;,Courier,monospace\">          ┌──────────┐     ┌─┐\n",
       "q_0: ──■──┤ Ry(2π/3) ├──■──┤M├\n",
       "     ┌─┴─┐└──────────┘┌─┴─┐└╥┘\n",
       "q_1: ┤ H ├────────────┤ H ├─╫─\n",
       "     └───┘            └───┘ ║ \n",
       "c: 1/═══════════════════════╩═\n",
       "                            0 </pre>"
      ],
      "text/plain": [
       "          ┌──────────┐     ┌─┐\n",
       "q_0: ──■──┤ Ry(2π/3) ├──■──┤M├\n",
       "     ┌─┴─┐└──────────┘┌─┴─┐└╥┘\n",
       "q_1: ┤ H ├────────────┤ H ├─╫─\n",
       "     └───┘            └───┘ ║ \n",
       "c: 1/═══════════════════════╩═\n",
       "                            0 "
      ]
     },
     "execution_count": 14,
     "metadata": {},
     "output_type": "execute_result"
    }
   ],
   "source": [
    "import math\n",
    "\n",
    "from qiskit import QuantumCircuit, QuantumRegister, ClassicalRegister\n",
    "from qiskit import Aer, execute\n",
    "from qiskit.circuit.library import CHGate\n",
    "from qiskit.tools.visualization import plot_histogram\n",
    "\n",
    "coin_quantum = QuantumCircuit(2, 1)\n",
    "coin_quantum.append(CHGate(), [0, 1])\n",
    "\n",
    "theta = 2 * math.pi / 3 \n",
    "coin_quantum.ry(theta, 0)\n",
    "coin_quantum.append(CHGate(), [0, 1])\n",
    "\n",
    "coin_quantum.measure(0, 0)\n",
    "\n",
    "coin_quantum.draw(fold=-1)"
   ]
  },
  {
   "cell_type": "code",
   "execution_count": 15,
   "metadata": {},
   "outputs": [
    {
     "name": "stdout",
     "output_type": "stream",
     "text": [
      "Sampled outcomes: {'1': 743, '0': 257}\n"
     ]
    },
    {
     "data": {
      "image/png": "[encoded data removed]",
      "text/plain": [
       "<Figure size 700x500 with 1 Axes>"
      ]
     },
     "execution_count": 15,
     "metadata": {},
     "output_type": "execute_result"
    }
   ],
   "source": [
    "# Testing your circuit\n",
    "simulator = Aer.get_backend('qasm_simulator')  # Use the simulator from qiskit Aer\n",
    "\n",
    "result = execute(coin_quantum, simulator, shots=1000).result()\n",
    "counts_quantum = result.get_counts(coin_quantum)\n",
    "print('Sampled outcomes:', counts_quantum)\n",
    "plot_histogram(counts_quantum, title='Quantum Coin')"
   ]
  },
  {
   "cell_type": "code",
   "execution_count": 8,
   "metadata": {
    "deletable": false,
    "editable": false,
    "nbgrader": {
     "cell_type": "code",
     "checksum": "818f941ec5b52ca9d3e46c92b391af38",
     "grade": true,
     "grade_id": "1-2-1-test",
     "locked": true,
     "points": 10,
     "schema_version": 3,
     "solution": false,
     "task": false
    }
   },
   "outputs": [],
   "source": [
    "# Do not delete this cell\n",
    "# Pass all the below test(s) and the hidden tests for full credit\n",
    "assert len(coin_quantum) > 0, 'Empty circuit, add gates with coin_quantum.<gate_name>(q0, ...)'\n",
    "assert len(counts_quantum) == 2, 'The circuit should have two possible outcomes'\n",
    "assert 220 <= counts_quantum['0'] <= 280, 'Probability of |0> should be 1/4'\n",
    "assert 720 <= counts_quantum['1'] <= 780, 'Probability of |1> should be 3/4'"
   ]
  },
  {
   "cell_type": "markdown",
   "metadata": {},
   "source": [
    "### 2. Quantum Logic Gates\n",
    "In this problem, we will review single-qubit quantum gates, and their action on the three principal axes of spin measurement, i.e. $\\hat{x}$, $\\hat{y}$, and $\\hat{z}$. Using the notation in lecture, we denote the pair of eigen-states in each axis as follows: \n",
    "* $(|+\\rangle, |-\\rangle)$ for $\\hat{x}$ axis,\n",
    "* $(|i\\rangle, |-i\\rangle)$ for $\\hat{y}$ axis,\n",
    "* $(|0\\rangle, |1\\rangle)$ for $\\hat{z}$ axis.\n",
    "\n",
    "where \n",
    "$$\n",
    "|+\\rangle = \\frac{1}{\\sqrt{2}}(|0\\rangle+|1\\rangle),\n",
    "$$\n",
    "$$\n",
    "|-\\rangle = \\frac{1}{\\sqrt{2}}(|0\\rangle-|1\\rangle), \n",
    "$$\n",
    "$$\n",
    "|i\\rangle = \\frac{1}{\\sqrt{2}}(|0\\rangle+i|1\\rangle),\n",
    "$$\n",
    "$$\n",
    "|-i\\rangle = \\frac{1}{\\sqrt{2}}(|0\\rangle-i|1\\rangle).\n",
    "$$\n",
    "\n",
    "#### 2.1 Clifford Gates\n",
    "The single-qubit Clifford gates can be viewed as a map from one eigen-state to another eigen-state. As such, the action of a Clifford gate can be described as how the gate transforms the three eigen-states respectively. For example, for a Hadamard gate and an S gate:\n",
    "* H gate: $(|+\\rangle, |i\\rangle, |0\\rangle) \\rightarrow (|0\\rangle, |-i\\rangle, |+\\rangle)$,\n",
    "* S gate: $(|+\\rangle, |i\\rangle, |0\\rangle) \\rightarrow (|i\\rangle, |-\\rangle, |0\\rangle)$. \n",
    "\n",
    "Feel free to verify this mapping by manipulating and executing the code block below.\n",
    "$$\n",
    "\\color{yellow}\n",
    "H = \\frac{1}{\\sqrt{2}}\n",
    "\\begin{pmatrix}\n",
    "1 & 1 \\\\\n",
    "1 & -1\n",
    "\\end{pmatrix}\n",
    "$$\n",
    "$$\n",
    "\\color{yellow}\n",
    "H|+\\rangle = \\frac{1}{\\sqrt{2}}\n",
    "\\begin{pmatrix}\n",
    "1 & 1 \\\\\n",
    "1 & -1\n",
    "\\end{pmatrix}\n",
    "\\frac{1}{\\sqrt{2}}\n",
    "\\begin{pmatrix}\n",
    "1 \\\\\n",
    "1 \n",
    "\\end{pmatrix}\n",
    "=\n",
    "\\begin{pmatrix}\n",
    "1 \\\\\n",
    "0 \n",
    "\\end{pmatrix}\n",
    "= |0\\rangle\n",
    "$$\n",
    "$$\n",
    "\\color{yellow}\n",
    "H|i\\rangle = \\frac{1}{\\sqrt{2}}\n",
    "\\begin{pmatrix}\n",
    "1 & 1 \\\\\n",
    "1 & -1\n",
    "\\end{pmatrix}\n",
    "\\frac{1}{\\sqrt{2}}\n",
    "\\begin{pmatrix}\n",
    "1 \\\\\n",
    "i \n",
    "\\end{pmatrix}\n",
    "= \\frac{1}{2}\n",
    "\\begin{pmatrix}\n",
    "1+i \\\\\n",
    "1-i\n",
    "\\end{pmatrix}\n",
    "\\frac{1}{\\sqrt{2}}\n",
    "\\begin{pmatrix}\n",
    "\\frac{1+i}{\\sqrt{2}} \\\\\n",
    "\\frac{1-i}{\\sqrt{2}}\n",
    "\\end{pmatrix}\n",
    "= e^{\\frac{i\\pi}{4}} \\frac{1}{\\sqrt{2}}\n",
    "\\begin{pmatrix}\n",
    "1 \\\\\n",
    "-i\n",
    "\\end{pmatrix}\n",
    "= e^{\\frac{i\\pi}{4}}|-i\\rangle\n",
    "=|-i\\rangle\n",
    "$$\n",
    "$$\n",
    "\\color{yellow}\n",
    "H|0\\rangle = \\frac{1}{\\sqrt{2}}\n",
    "\\begin{pmatrix}\n",
    "1 & 1 \\\\\n",
    "1 & -1\n",
    "\\end{pmatrix}\n",
    "\\begin{pmatrix}\n",
    "1 \\\\\n",
    "0 \n",
    "\\end{pmatrix}\n",
    "= \\frac{1}{\\sqrt{2}}\n",
    "\\begin{pmatrix}\n",
    "1 \\\\\n",
    "1 \n",
    "\\end{pmatrix}\n",
    "= |+\\rangle\n",
    "$$\n",
    "\n",
    "$$\n",
    "\\color{yellow}\n",
    "S = \n",
    "\\begin{pmatrix}\n",
    "1 & 0 \\\\\n",
    "0 & i\n",
    "\\end{pmatrix}\n",
    "$$\n",
    "$$\n",
    "\\color{yellow}\n",
    "S|+\\rangle = \n",
    "\\begin{pmatrix}\n",
    "1 & 0 \\\\\n",
    "0 & i\n",
    "\\end{pmatrix}\n",
    "\\frac{1}{\\sqrt{2}}\n",
    "\\begin{pmatrix}\n",
    "1 \\\\\n",
    "1 \n",
    "\\end{pmatrix}\n",
    "= \\frac{1}{\\sqrt{2}}\n",
    "\\begin{pmatrix}\n",
    "1 \\\\\n",
    "i \n",
    "\\end{pmatrix}\n",
    "= |i\\rangle\n",
    "$$\n",
    "$$\n",
    "\\color{yellow}\n",
    "S|i\\rangle = \n",
    "\\begin{pmatrix}\n",
    "1 & 0 \\\\\n",
    "0 & i\n",
    "\\end{pmatrix}\n",
    "\\frac{1}{\\sqrt{2}}\n",
    "\\begin{pmatrix}\n",
    "1 \\\\\n",
    "i \n",
    "\\end{pmatrix}\n",
    "= \\frac{1}{\\sqrt{2}}\n",
    "\\begin{pmatrix}\n",
    "1 \\\\\n",
    "-1\n",
    "\\end{pmatrix}\n",
    "= |-\\rangle\n",
    "$$\n",
    "$$\n",
    "\\color{yellow}\n",
    "S|0\\rangle = \n",
    "\\begin{pmatrix}\n",
    "1 & 0 \\\\\n",
    "0 & i\n",
    "\\end{pmatrix}\n",
    "\\begin{pmatrix}\n",
    "1 \\\\\n",
    "0 \n",
    "\\end{pmatrix}\n",
    "= \n",
    "\\begin{pmatrix}\n",
    "1 \\\\\n",
    "0 \n",
    "\\end{pmatrix}\n",
    "= |0\\rangle\n",
    "$$"
   ]
  },
  {
   "cell_type": "code",
   "execution_count": 9,
   "metadata": {},
   "outputs": [
    {
     "name": "stdout",
     "output_type": "stream",
     "text": [
      "H applied to | + > gives :  Statevector([ 1.00000000e+00-6.123234e-17j, -1.00875766e-16+6.123234e-17j],\n",
      "            dims=(2,))\n",
      "H applied to | i > gives :  Statevector([0.5+0.5j, 0.5-0.5j],\n",
      "            dims=(2,))\n",
      "H applied to | 0 > gives :  Statevector([0.70710678+0.j, 0.70710678+0.j],\n",
      "            dims=(2,))\n",
      "S applied to | + > gives :  Statevector([ 0.70710678+0.j        , -0.        +0.70710678j],\n",
      "            dims=(2,))\n",
      "S applied to | i > gives :  Statevector([ 0.70710678+0.j, -0.70710678+0.j],\n",
      "            dims=(2,))\n",
      "S applied to | 0 > gives :  Statevector([ 1.+0.j, -0.+0.j],\n",
      "            dims=(2,))\n"
     ]
    }
   ],
   "source": [
    "from math import sqrt\n",
    "from qiskit import QuantumCircuit, QuantumRegister, ClassicalRegister\n",
    "from qiskit import Aer, execute\n",
    "simulator = Aer.get_backend('statevector_simulator')\n",
    "\n",
    "qc21demo = QuantumCircuit(1)\n",
    "\n",
    "test_states = {\n",
    "    '+': [1/sqrt(2), 1/sqrt(2)], 'i': [1/sqrt(2), 1j/sqrt(2)], '0': [1, 0]\n",
    "}\n",
    "\n",
    "for input_name, test_state in test_states.items():\n",
    "    qc21demo.initialize(test_state, 0)\n",
    "    qc21demo.h(0)\n",
    "    state = execute(qc21demo, simulator).result().get_statevector() # execute circuit\n",
    "    print(\"H applied to |\", input_name, \"> gives : \", state) # show amplitudes\n",
    "\n",
    "for input_name, test_state in test_states.items():\n",
    "    qc21demo.initialize(test_state, 0)\n",
    "    qc21demo.s(0)\n",
    "    state = execute(qc21demo, simulator).result().get_statevector() # execute circuit\n",
    "    print(\"S applied to |\", input_name, \"> gives : \", state) # show amplitudes\n",
    "\n"
   ]
  },
  {
   "cell_type": "markdown",
   "metadata": {},
   "source": [
    "#### 2.1.1\n",
    "Give the sequence of Hadamard gates and S gates which produces the following map. If the map is not possible, leave the quantum circuit blank.\n",
    "$$(|+\\rangle, |i\\rangle, |0\\rangle) \\rightarrow (|0\\rangle, |+\\rangle, |i\\rangle)$$"
   ]
  },
  {
   "cell_type": "code",
   "execution_count": 10,
   "metadata": {
    "deletable": false,
    "nbgrader": {
     "cell_type": "code",
     "checksum": "913571a452fe8c9eb6f4b9b5a72d1d74",
     "grade": false,
     "grade_id": "2-1-1",
     "locked": false,
     "schema_version": 3,
     "solution": true,
     "task": false
    }
   },
   "outputs": [
    {
     "data": {
      "text/html": [
       "<pre style=\"word-wrap: normal;white-space: pre;background: #fff0;line-height: 1.1;font-family: &quot;Courier New&quot;,Courier,monospace\">   ┌───┐┌───┐\n",
       "q: ┤ H ├┤ S ├\n",
       "   └───┘└───┘</pre>"
      ],
      "text/plain": [
       "   ┌───┐┌───┐\n",
       "q: ┤ H ├┤ S ├\n",
       "   └───┘└───┘"
      ]
     },
     "execution_count": 10,
     "metadata": {},
     "output_type": "execute_result"
    }
   ],
   "source": [
    "qc211 = QuantumCircuit(1)\n",
    "\n",
    "qc211.h(0)\n",
    "qc211.s(0)\n",
    "\n",
    "qc211.draw(fold=-1)"
   ]
  },
  {
   "cell_type": "code",
   "execution_count": 11,
   "metadata": {
    "deletable": false,
    "editable": false,
    "nbgrader": {
     "cell_type": "code",
     "checksum": "26b7d6c7e43a2fa4beafa97ad6de9aef",
     "grade": true,
     "grade_id": "2-1-1-test",
     "locked": true,
     "points": 10,
     "schema_version": 3,
     "solution": false,
     "task": false
    }
   },
   "outputs": [
    {
     "name": "stdout",
     "output_type": "stream",
     "text": [
      "Correct:   | +> -> | 0>\n",
      "Correct:   | i> -> | +>\n",
      "Correct:   | 0> -> | i>\n",
      "Correct:   | -> -> | 1>\n",
      "Correct:   |-i> -> | ->\n",
      "Correct:   | 1> -> |-i>\n"
     ]
    },
    {
     "name": "stderr",
     "output_type": "stream",
     "text": [
      "/var/folders/6b/d33yz61x5gg85x6s_tyl7lbh0000gn/T/ipykernel_53961/1091487383.py:28: DeprecationWarning: The QuantumCircuit.__iadd__() method is being deprecated. Use the compose() (potentially with the inplace=True argument) and tensor() methods which are more flexible w.r.t circuit register compatibility.\n",
      "  qc_test += qc211\n"
     ]
    }
   ],
   "source": [
    "# Do not delete this cell\n",
    "# Testing your circuit\n",
    "# Validate\n",
    "assert set(g.__class__.__name__ for g, _, _ in list(qc211)\n",
    "          ).issubset({'HGate', 'SGate'}), (\n",
    "    'You may only use H and S gates for this problem')\n",
    "\n",
    "# Simulate every input and check the output\n",
    "from qiskit import QuantumCircuit, QuantumRegister, ClassicalRegister\n",
    "from qiskit import Aer, execute\n",
    "from qiskit.quantum_info.operators.predicates import matrix_equal\n",
    "simulator = Aer.get_backend('statevector_simulator')\n",
    "test_states = {\n",
    "    '+': [1/sqrt(2), 1/sqrt(2)], '-': [1/sqrt(2), -1/sqrt(2)],\n",
    "    'i': [1/sqrt(2), 1j/sqrt(2)], '-i': [1/sqrt(2), -1j/sqrt(2)],\n",
    "    '0': [1, 0], '1': [0, 1],\n",
    "}\n",
    "expected_transform = {\n",
    "    '+': '0', 'i': '+', '0': 'i',\n",
    "    '-': '1', '-i': '-', '1': '-i',\n",
    "}\n",
    "invalid = False\n",
    "for input_name, output_name in expected_transform.items():\n",
    "    #print(f'Testing input |{input_name}> with expected output |{output_name}>...')\n",
    "    # Simulate\n",
    "    qc_test = QuantumCircuit(1)\n",
    "    qc_test.initialize(test_states[input_name], 0)\n",
    "    qc_test += qc211\n",
    "    state = execute(qc_test, simulator).result().get_statevector() # execute circuit\n",
    "    state_name = str(state)\n",
    "    for comp_name, comp_state in test_states.items():\n",
    "        if matrix_equal(state, comp_state,\n",
    "                        ignore_phase=True, atol=1e-8, rtol=1e-8):\n",
    "            state_name = comp_name\n",
    "    if state_name == output_name:\n",
    "        print(f'Correct:   |{input_name:>2}> -> |{output_name:>2}>')\n",
    "    else:\n",
    "        invalid = True\n",
    "        print(f'Incorrect: |{input_name:>2}> -> |{state_name:>2}> (expected {output_name:>2})')\n",
    "assert not invalid, 'At least one output of your circuit is wrong.'"
   ]
  },
  {
   "cell_type": "markdown",
   "metadata": {},
   "source": [
    "#### 2.1.2\n",
    "Give the sequence of Hadamard gates and S gates which produces the following map. If the map is not possible, leave the quantum circuit blank.\n",
    "$$(|+\\rangle, |i\\rangle, |0\\rangle) \\rightarrow (|+\\rangle, |-i\\rangle, |1\\rangle)$$"
   ]
  },
  {
   "cell_type": "code",
   "execution_count": 12,
   "metadata": {
    "deletable": false,
    "nbgrader": {
     "cell_type": "code",
     "checksum": "1d51235d040bbb6510a289fa1af36ade",
     "grade": false,
     "grade_id": "2-1-2",
     "locked": false,
     "schema_version": 3,
     "solution": true,
     "task": false
    }
   },
   "outputs": [
    {
     "data": {
      "text/html": [
       "<pre style=\"word-wrap: normal;white-space: pre;background: #fff0;line-height: 1.1;font-family: &quot;Courier New&quot;,Courier,monospace\">   ┌───┐┌───┐┌───┐┌───┐\n",
       "q: ┤ H ├┤ S ├┤ S ├┤ H ├\n",
       "   └───┘└───┘└───┘└───┘</pre>"
      ],
      "text/plain": [
       "   ┌───┐┌───┐┌───┐┌───┐\n",
       "q: ┤ H ├┤ S ├┤ S ├┤ H ├\n",
       "   └───┘└───┘└───┘└───┘"
      ]
     },
     "execution_count": 12,
     "metadata": {},
     "output_type": "execute_result"
    }
   ],
   "source": [
    "qc212 = QuantumCircuit(1)\n",
    "\n",
    "qc212.h(0)\n",
    "qc212.s(0)\n",
    "qc212.s(0)\n",
    "qc212.h(0)\n",
    "\n",
    "qc212.draw(fold=-1)"
   ]
  },
  {
   "cell_type": "code",
   "execution_count": 13,
   "metadata": {
    "deletable": false,
    "editable": false,
    "nbgrader": {
     "cell_type": "code",
     "checksum": "9cdf9c91ddcf80597761353edaade90d",
     "grade": true,
     "grade_id": "2-1-2-test",
     "locked": true,
     "points": 10,
     "schema_version": 3,
     "solution": false,
     "task": false
    }
   },
   "outputs": [
    {
     "ename": "NameError",
     "evalue": "name 'all_states' is not defined",
     "output_type": "error",
     "traceback": [
      "\u001b[0;31m---------------------------------------------------------------------------\u001b[0m",
      "\u001b[0;31mNameError\u001b[0m                                 Traceback (most recent call last)",
      "Cell \u001b[0;32mIn[13], line 25\u001b[0m\n\u001b[1;32m     23\u001b[0m state \u001b[38;5;241m=\u001b[39m execute(qc_test, simulator)\u001b[38;5;241m.\u001b[39mresult()\u001b[38;5;241m.\u001b[39mget_statevector() \u001b[38;5;66;03m# execute circuit\u001b[39;00m\n\u001b[1;32m     24\u001b[0m state_name \u001b[38;5;241m=\u001b[39m \u001b[38;5;28mstr\u001b[39m(state)\n\u001b[0;32m---> 25\u001b[0m \u001b[38;5;28;01mfor\u001b[39;00m comp_name, comp_state \u001b[38;5;129;01min\u001b[39;00m \u001b[43mall_states\u001b[49m\u001b[38;5;241m.\u001b[39mitems():\n\u001b[1;32m     26\u001b[0m     \u001b[38;5;28;01mif\u001b[39;00m matrix_equal(state, comp_state,\n\u001b[1;32m     27\u001b[0m                     ignore_phase\u001b[38;5;241m=\u001b[39m\u001b[38;5;28;01mTrue\u001b[39;00m, atol\u001b[38;5;241m=\u001b[39m\u001b[38;5;241m1e-8\u001b[39m, rtol\u001b[38;5;241m=\u001b[39m\u001b[38;5;241m1e-8\u001b[39m):\n\u001b[1;32m     28\u001b[0m         state_name \u001b[38;5;241m=\u001b[39m comp_name\n",
      "\u001b[0;31mNameError\u001b[0m: name 'all_states' is not defined"
     ]
    }
   ],
   "source": [
    "# Do not delete this cell\n",
    "# Testing your circuit\n",
    "# Validate\n",
    "assert set(g.__class__.__name__ for g, _, _ in list(qc212)\n",
    "          ).issubset({'HGate', 'SGate'}), (\n",
    "    'You may only use H and S gates for this problem')\n",
    "\n",
    "# Don't forget to test that your circuit has the correct output for every input\n",
    "simulator = Aer.get_backend('statevector_simulator')\n",
    "test_states = {\n",
    "    '+': [1/sqrt(2), 1/sqrt(2)], 'i': [1/sqrt(2), 1j/sqrt(2)], '0': [1, 0]\n",
    "}\n",
    "expected_transform = {\n",
    "    '+': '+', 'i': '-i', '0': '1'\n",
    "}\n",
    "invalid = False\n",
    "for input_name, output_name in expected_transform.items():\n",
    "    #print(f'Testing input |{input_name}> with expected output |{output_name}>...')\n",
    "    # Simulate\n",
    "    qc_test = QuantumCircuit(1)\n",
    "    qc_test.initialize(test_states[input_name], 0)\n",
    "    qc_test = qc_test.compose(qc212)\n",
    "    state = execute(qc_test, simulator).result().get_statevector() # execute circuit\n",
    "    state_name = str(state)\n",
    "    for comp_name, comp_state in all_states.items():\n",
    "        if matrix_equal(state, comp_state,\n",
    "                        ignore_phase=True, atol=1e-8, rtol=1e-8):\n",
    "            state_name = comp_name\n",
    "    if state_name == output_name:\n",
    "        print(f'Correct:   |{input_name:>2}> -> |{output_name:>2}>')\n",
    "    else:\n",
    "        invalid = True\n",
    "        print(f'Incorrect: |{input_name:>2}> -> |{state_name:>2}> (expected {output_name:>2})')\n",
    "assert not invalid, 'At least one output of your circuit is wrong.'"
   ]
  },
  {
   "cell_type": "markdown",
   "metadata": {},
   "source": [
    "#### 2.1.3\n",
    "Give the sequence of Hadamard gates and S gates which produces the following map. If the map is not possible, leave the quantum circuit blank.\n",
    "$$(|+\\rangle, |i\\rangle, |0\\rangle) \\rightarrow (|0\\rangle, |i\\rangle, |+\\rangle)$$"
   ]
  },
  {
   "cell_type": "code",
   "execution_count": null,
   "metadata": {
    "deletable": false,
    "nbgrader": {
     "cell_type": "code",
     "checksum": "425e3d7d5e9ae8c51f15a679dd395308",
     "grade": false,
     "grade_id": "2-1-3",
     "locked": false,
     "schema_version": 3,
     "solution": true,
     "task": false
    }
   },
   "outputs": [],
   "source": [
    "qc213 = QuantumCircuit(1)\n",
    "\n",
    "# Write your quantum gates here:\n",
    "# there is no sequence with a length < 20\n",
    "\n",
    "qc213.draw(fold=-1)"
   ]
  },
  {
   "cell_type": "code",
   "execution_count": null,
   "metadata": {
    "deletable": false,
    "editable": false,
    "nbgrader": {
     "cell_type": "code",
     "checksum": "d97b6bfee43676628c6f24376c5b0b16",
     "grade": true,
     "grade_id": "2-1-3-test",
     "locked": true,
     "points": 10,
     "schema_version": 3,
     "solution": false,
     "task": false
    }
   },
   "outputs": [],
   "source": [
    "# Do not delete this cell\n",
    "# Testing your circuit\n",
    "# Validate\n",
    "assert set(g.__class__.__name__ for g, _, _ in list(qc213)\n",
    "          ).issubset({'HGate', 'SGate'}), (\n",
    "    'You may only use H and S gates for this problem')\n",
    "\n",
    "# Don't forget to test that your circuit has the correct output for every input\n",
    "simulator = Aer.get_backend('statevector_simulator')\n",
    "test_states = {\n",
    "    '+': [1/sqrt(2), 1/sqrt(2)], 'i': [1/sqrt(2), 1j/sqrt(2)], '0': [1, 0]\n",
    "}\n",
    "expected_transform = {\n",
    "    '+': '0', 'i': 'i', '0': '+'\n",
    "}\n",
    "invalid = False\n",
    "for input_name, output_name in expected_transform.items():\n",
    "    #print(f'Testing input |{input_name}> with expected output |{output_name}>...')\n",
    "    # Simulate\n",
    "    qc_test = QuantumCircuit(1)\n",
    "    qc_test.initialize(test_states[input_name], 0)\n",
    "    qc_test = qc_test.compose(qc213)\n",
    "    state = execute(qc_test, simulator).result().get_statevector() # execute circuit\n",
    "    state_name = str(state)\n",
    "    for comp_name, comp_state in all_states.items():\n",
    "        if matrix_equal(state, comp_state,\n",
    "                        ignore_phase=True, atol=1e-8, rtol=1e-8):\n",
    "            state_name = comp_name\n",
    "    if state_name == output_name:\n",
    "        print(f'Correct:   |{input_name:>2}> -> |{output_name:>2}>')\n",
    "    else:\n",
    "        invalid = True\n",
    "        print(f'Incorrect: |{input_name:>2}> -> |{state_name:>2}> (expected {output_name:>2})')\n",
    "assert not invalid, 'At least one output of your circuit is wrong.'"
   ]
  },
  {
   "cell_type": "markdown",
   "metadata": {},
   "source": [
    "#### 2.1.4\n",
    "Give the sequence of Hadamard gates and S gates which produces the following map. If the map is not possible, leave the quantum circuit blank.\n",
    "$$(|+\\rangle, |i\\rangle, |0\\rangle) \\rightarrow (|1\\rangle, |i\\rangle, |+\\rangle)$$"
   ]
  },
  {
   "cell_type": "code",
   "execution_count": null,
   "metadata": {
    "deletable": false,
    "nbgrader": {
     "cell_type": "code",
     "checksum": "06f6ea71478d9d28e53050c12ac7ac86",
     "grade": false,
     "grade_id": "2-1-4",
     "locked": false,
     "schema_version": 3,
     "solution": true,
     "task": false
    }
   },
   "outputs": [],
   "source": [
    "qc214 = QuantumCircuit(1)\n",
    "\n",
    "qc214.s(0)\n",
    "qc214.s(0)\n",
    "qc214.h(0)\n",
    "\n",
    "qc214.draw(fold=-1)"
   ]
  },
  {
   "cell_type": "code",
   "execution_count": null,
   "metadata": {
    "deletable": false,
    "editable": false,
    "nbgrader": {
     "cell_type": "code",
     "checksum": "81063850ac01eade6103ea2ad37fb8bd",
     "grade": true,
     "grade_id": "2-1-4-test",
     "locked": true,
     "points": 10,
     "schema_version": 3,
     "solution": false,
     "task": false
    }
   },
   "outputs": [],
   "source": [
    "# Do not delete this cell\n",
    "# Testing your circuit\n",
    "# Validate\n",
    "assert set(g.__class__.__name__ for g, _, _ in list(qc214)\n",
    "          ).issubset({'HGate', 'SGate'}), (\n",
    "    'You may only use H and S gates for this problem')\n",
    "\n",
    "# Don't forget to test that your circuit has the correct output for every input\n",
    "simulator = Aer.get_backend('statevector_simulator')\n",
    "test_states = {\n",
    "    '+': [1/sqrt(2), 1/sqrt(2)], 'i': [1/sqrt(2), 1j/sqrt(2)], '0': [1, 0]\n",
    "}\n",
    "expected_transform = {\n",
    "    '+': '1', 'i': 'i', '0': '+'\n",
    "}\n",
    "invalid = False\n",
    "for input_name, output_name in expected_transform.items():\n",
    "    #print(f'Testing input |{input_name}> with expected output |{output_name}>...')\n",
    "    # Simulate\n",
    "    qc_test = QuantumCircuit(1)\n",
    "    qc_test.initialize(test_states[input_name], 0)\n",
    "    qc_test = qc_test.compose(qc214)\n",
    "    state = execute(qc_test, simulator).result().get_statevector() # execute circuit\n",
    "    state_name = str(state)\n",
    "    for comp_name, comp_state in all_states.items():\n",
    "        if matrix_equal(state, comp_state,\n",
    "                        ignore_phase=True, atol=1e-8, rtol=1e-8):\n",
    "            state_name = comp_name\n",
    "    if state_name == output_name:\n",
    "        print(f'Correct:   |{input_name:>2}> -> |{output_name:>2}>')\n",
    "    else:\n",
    "        invalid = True\n",
    "        print(f'Incorrect: |{input_name:>2}> -> |{state_name:>2}> (expected {output_name:>2})')\n",
    "assert not invalid, 'At least one output of your circuit is wrong.'"
   ]
  },
  {
   "cell_type": "markdown",
   "metadata": {},
   "source": [
    "#### 2.1.5\n",
    "Give the sequence of Hadamard gates and S gates which produces the following map. If the map is not possible, leave the quantum circuit blank.\n",
    "$$(|+\\rangle, |i\\rangle, |0\\rangle) \\rightarrow (|1\\rangle, |-\\rangle, |i\\rangle)$$"
   ]
  },
  {
   "cell_type": "code",
   "execution_count": null,
   "metadata": {
    "deletable": false,
    "nbgrader": {
     "cell_type": "code",
     "checksum": "c9c547a811823343738fe32cb56f9de6",
     "grade": false,
     "grade_id": "2-1-5",
     "locked": false,
     "schema_version": 3,
     "solution": true,
     "task": false
    }
   },
   "outputs": [],
   "source": [
    "qc215 = QuantumCircuit(1)\n",
    "\n",
    "qc215.s(0)\n",
    "qc215.s(0)\n",
    "qc215.h(0)\n",
    "qc215.s(0)\n",
    "\n",
    "qc215.draw(fold=-1)"
   ]
  },
  {
   "cell_type": "code",
   "execution_count": null,
   "metadata": {
    "deletable": false,
    "editable": false,
    "nbgrader": {
     "cell_type": "code",
     "checksum": "21e3907f1bc601059272bffa054ece47",
     "grade": true,
     "grade_id": "2-1-5-test",
     "locked": true,
     "points": 10,
     "schema_version": 3,
     "solution": false,
     "task": false
    }
   },
   "outputs": [],
   "source": [
    "# Do not delete this cell\n",
    "# Testing your circuit\n",
    "# Validate\n",
    "assert set(g.__class__.__name__ for g, _, _ in list(qc215)\n",
    "          ).issubset({'HGate', 'SGate'}), (\n",
    "    'You may only use H and S gates for this problem')\n",
    "\n",
    "# Don't forget to test that your circuit has the correct output for every input\n",
    "simulator = Aer.get_backend('statevector_simulator')\n",
    "test_states = {\n",
    "    '+': [1/sqrt(2), 1/sqrt(2)], 'i': [1/sqrt(2), 1j/sqrt(2)], '0': [1, 0]\n",
    "}\n",
    "expected_transform = {\n",
    "    '+': '1', 'i': '-', '0': 'i'\n",
    "}\n",
    "invalid = False\n",
    "for input_name, output_name in expected_transform.items():\n",
    "    #print(f'Testing input |{input_name}> with expected output |{output_name}>...')\n",
    "    # Simulate\n",
    "    qc_test = QuantumCircuit(1)\n",
    "    qc_test.initialize(test_states[input_name], 0)\n",
    "    qc_test = qc_test.compose(qc215)\n",
    "    state = execute(qc_test, simulator).result().get_statevector() # execute circuit\n",
    "    state_name = str(state)\n",
    "    for comp_name, comp_state in all_states.items():\n",
    "        if matrix_equal(state, comp_state,\n",
    "                        ignore_phase=True, atol=1e-8, rtol=1e-8):\n",
    "            state_name = comp_name\n",
    "    if state_name == output_name:\n",
    "        print(f'Correct:   |{input_name:>2}> -> |{output_name:>2}>')\n",
    "    else:\n",
    "        invalid = True\n",
    "        print(f'Incorrect: |{input_name:>2}> -> |{state_name:>2}> (expected {output_name:>2})')\n",
    "assert not invalid, 'At least one output of your circuit is wrong.'"
   ]
  }
 ],
 "metadata": {
  "@webio": {
   "lastCommId": null,
   "lastKernelId": null
  },
  "kernelspec": {
   "display_name": "Python 3",
   "language": "python",
   "name": "python3"
  },
  "language_info": {
   "codemirror_mode": {
    "name": "ipython",
    "version": 3
   },
   "file_extension": ".py",
   "mimetype": "text/x-python",
   "name": "python",
   "nbconvert_exporter": "python",
   "pygments_lexer": "ipython3",
   "version": "3.8.18"
  }
 },
 "nbformat": 4,
 "nbformat_minor": 4
}
